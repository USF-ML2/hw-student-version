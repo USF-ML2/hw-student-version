{
 "cells": [
  {
   "cell_type": "markdown",
   "metadata": {
    "deletable": false,
    "editable": false,
    "nbgrader": {
     "checksum": "48de53d81aa50d97046cca0ddb2f2d2d",
     "grade": false,
     "grade_id": "cell-cfc24d80c2cf2c24",
     "locked": true,
     "schema_version": 1,
     "solution": false
    }
   },
   "source": [
    "# Adaboost\n",
    "For this exercise you will implement AdaBoost from scratch and applied it to a spam dataset. You will be classifying data into spam and not spam. You can call DecisionTreeClassifier from sklearn to learn your base classifiers.\n",
    "\n",
    "Here is how you train a decision tree classifier with weights.\n",
    "\n",
    "`\n",
    "h = DecisionTreeClassifier(max_depth=1, random_state=0)\n",
    "h.fit(X, Y, sample_weight=w)\n",
    "`"
   ]
  },
  {
   "cell_type": "code",
   "execution_count": null,
   "metadata": {
    "deletable": false,
    "editable": false,
    "nbgrader": {
     "checksum": "721eeb40a1514114e45b42ea010de91b",
     "grade": false,
     "grade_id": "cell-3478d607a536190b",
     "locked": true,
     "schema_version": 1,
     "solution": false
    }
   },
   "outputs": [],
   "source": [
    "import numpy as np\n",
    "from sklearn.tree import DecisionTreeClassifier"
   ]
  },
  {
   "cell_type": "code",
   "execution_count": null,
   "metadata": {
    "deletable": false,
    "editable": false,
    "nbgrader": {
     "checksum": "1410ebe73ffc63306e4c15b6698a7188",
     "grade": false,
     "grade_id": "cell-c56cb727222d9503",
     "locked": true,
     "schema_version": 1,
     "solution": false
    }
   },
   "outputs": [],
   "source": [
    "# accuracy computation\n",
    "def accuracy(y, pred):\n",
    "    return np.sum(y == pred) / float(len(y)) "
   ]
  },
  {
   "cell_type": "code",
   "execution_count": null,
   "metadata": {
    "deletable": false,
    "nbgrader": {
     "checksum": "f3cd82b0cff0a3ce0bdb97b32daa3881",
     "grade": false,
     "grade_id": "cell-1eaf818528c8d676",
     "locked": false,
     "schema_version": 1,
     "solution": true
    }
   },
   "outputs": [],
   "source": [
    "def parse_spambase_data(filename):\n",
    "    \"\"\" Given a filename return X and Y numpy arrays\n",
    "\n",
    "    X is of size number of rows x num_features\n",
    "    Y is an array of size the number of rows\n",
    "    Y is the first element of each row. (Convert 0 to -1)\n",
    "    \"\"\"\n",
    "    # YOUR CODE HERE\n",
    "    raise NotImplementedError()\n",
    "    return X, Y"
   ]
  },
  {
   "cell_type": "code",
   "execution_count": null,
   "metadata": {
    "deletable": false,
    "editable": false,
    "nbgrader": {
     "checksum": "871278b33c2d3da9fb8d7cbf4f4dd23d",
     "grade": true,
     "grade_id": "cell-73926460e1f70f54",
     "locked": true,
     "points": 1,
     "schema_version": 1,
     "solution": false
    }
   },
   "outputs": [],
   "source": [
    "y_test = np.array([1., -1., 1., 1., -1., -1., 1., 1., 1., -1.])\n",
    "X, Y = parse_spambase_data(\"tiny.spam.train\")\n",
    "for i in range(len(y_test)): assert(y_test[i] == Y[i])\n",
    "n, m = X.shape\n",
    "assert(n == 10)\n",
    "assert(m == 57)"
   ]
  },
  {
   "cell_type": "code",
   "execution_count": null,
   "metadata": {
    "deletable": false,
    "nbgrader": {
     "checksum": "3a188c77e59b3b431b59f03ddf7bbe7d",
     "grade": false,
     "grade_id": "cell-befcece7be9c6839",
     "locked": false,
     "schema_version": 1,
     "solution": true
    }
   },
   "outputs": [],
   "source": [
    "def adaboost(X, y, num_iter):\n",
    "    \"\"\"Given an numpy matrix X, a array y and num_iter return trees and weights \n",
    "   \n",
    "    Input: X, y, num_iter\n",
    "    Outputs: array of trees from DecisionTreeClassifier\n",
    "             trees_weights array of floats\n",
    "    Assumes y is {-1, 1}\n",
    "    \"\"\"\n",
    "    trees = []\n",
    "    trees_weights = [] \n",
    "    N, _ = X.shape\n",
    "    d = np.ones(N) / N\n",
    "\n",
    "    # YOUR CODE HERE\n",
    "    raise NotImplementedError()\n",
    "    return trees, trees_weights"
   ]
  },
  {
   "cell_type": "code",
   "execution_count": null,
   "metadata": {
    "deletable": false,
    "editable": false,
    "nbgrader": {
     "checksum": "a6923d427eebd8af4c7ffa45586034e0",
     "grade": true,
     "grade_id": "cell-4dc8edbf0e11fab8",
     "locked": true,
     "points": 1,
     "schema_version": 1,
     "solution": false
    }
   },
   "outputs": [],
   "source": [
    "X, Y = parse_spambase_data(\"tiny.spam.train\")\n",
    "trees, weights = adaboost(X, Y, 2)\n",
    "assert(len(trees) == 2)\n",
    "assert(len(weights) == 2)\n",
    "assert(isinstance(trees[0], DecisionTreeClassifier))"
   ]
  },
  {
   "cell_type": "code",
   "execution_count": null,
   "metadata": {
    "deletable": false,
    "editable": false,
    "nbgrader": {
     "checksum": "6ce0015d15c0c0df6be9c78e73bb0929",
     "grade": true,
     "grade_id": "cell-8702186fedbd58e1",
     "locked": true,
     "points": 2,
     "schema_version": 1,
     "solution": false
    }
   },
   "outputs": [],
   "source": [
    "x = np.array([[0, -1], [1, 0], [-1, 0]])\n",
    "y = np.array([-1, 1, 1])\n",
    "trees, weights = adaboost(x, y, 1)\n",
    "h = trees[0]\n",
    "pred = h.predict(x)\n",
    "for i in range(len(y)): assert(pred[i] == y[i])"
   ]
  },
  {
   "cell_type": "code",
   "execution_count": null,
   "metadata": {
    "deletable": false,
    "nbgrader": {
     "checksum": "57a2d749acc1d974f996162a4fb190fc",
     "grade": false,
     "grade_id": "cell-50ad4a5c81e7c016",
     "locked": false,
     "schema_version": 1,
     "solution": true
    }
   },
   "outputs": [],
   "source": [
    "def adaboost_predict(X, trees, trees_weights):\n",
    "    \"\"\"Given X, trees and weights predict Y\n",
    "    \"\"\"\n",
    "    # X input, y output\n",
    "    N, _ =  X.shape\n",
    "    y = np.zeros(N)\n",
    "    # YOUR CODE HERE\n",
    "    raise NotImplementedError()\n",
    "    return y"
   ]
  },
  {
   "cell_type": "code",
   "execution_count": null,
   "metadata": {
    "deletable": false,
    "editable": false,
    "nbgrader": {
     "checksum": "4f29500cb929b49fd0e3d7d7c2b528be",
     "grade": true,
     "grade_id": "cell-7f28f00061f7b5a5",
     "locked": true,
     "points": 3,
     "schema_version": 1,
     "solution": false
    }
   },
   "outputs": [],
   "source": [
    "x = np.array([[0, -1], [1, 0], [-1, 0]])\n",
    "y = np.array([-1, 1, 1])\n",
    "trees, weights = adaboost(x, y, 1)\n",
    "pred = adaboost_predict(x, trees, weights)\n",
    "for i in range(len(y)):\n",
    "    assert(pred[i] == y[i])"
   ]
  },
  {
   "cell_type": "code",
   "execution_count": null,
   "metadata": {
    "deletable": false,
    "editable": false,
    "nbgrader": {
     "checksum": "6f5022208d3fd8fb43a8847635cdb82f",
     "grade": true,
     "grade_id": "cell-89126a5a7f8f0e1b",
     "locked": true,
     "points": 3,
     "schema_version": 1,
     "solution": false
    }
   },
   "outputs": [],
   "source": [
    "X, Y = parse_spambase_data(\"spambase.train\")\n",
    "X_test, Y_test = parse_spambase_data(\"spambase.test\")\n",
    "trees, trees_weights = adaboost(X, Y, 10)\n",
    "Yhat = adaboost_predict(X, trees, trees_weights)\n",
    "Yhat_test = adaboost_predict(X_test, trees, trees_weights)\n",
    "    \n",
    "acc_test = accuracy(Y_test, Yhat_test)\n",
    "acc_train = accuracy(Y, Yhat)\n",
    "print(\"Train Accuracy %.4f\" % acc_train)\n",
    "print(\"Test Accuracy %.4f\" % acc_test)\n",
    "assert(np.around(acc_train, decimals=4)==0.9111)\n",
    "assert(np.around(acc_test, decimals=4)==0.9190)"
   ]
  }
 ],
 "metadata": {
  "kernelspec": {
   "display_name": "Python 3",
   "language": "python",
   "name": "python3"
  },
  "language_info": {
   "codemirror_mode": {
    "name": "ipython",
    "version": 3
   },
   "file_extension": ".py",
   "mimetype": "text/x-python",
   "name": "python",
   "nbconvert_exporter": "python",
   "pygments_lexer": "ipython3",
   "version": "3.6.3"
  },
  "toc": {
   "nav_menu": {},
   "number_sections": true,
   "sideBar": true,
   "skip_h1_title": false,
   "toc_cell": false,
   "toc_position": {},
   "toc_section_display": "block",
   "toc_window_display": false
  }
 },
 "nbformat": 4,
 "nbformat_minor": 2
}
